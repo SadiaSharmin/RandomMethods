{
  "nbformat": 4,
  "nbformat_minor": 0,
  "metadata": {
    "colab": {
      "private_outputs": true,
      "provenance": [],
      "authorship_tag": "ABX9TyOqFyvkYQWnH00vT6WayD7G",
      "include_colab_link": true
    },
    "kernelspec": {
      "name": "python3",
      "display_name": "Python 3"
    },
    "language_info": {
      "name": "python"
    }
  },
  "cells": [
    {
      "cell_type": "markdown",
      "metadata": {
        "id": "view-in-github",
        "colab_type": "text"
      },
      "source": [
        "<a href=\"https://colab.research.google.com/github/SadiaSharmin/RandomMethods/blob/main/ARIMA.ipynb\" target=\"_parent\"><img src=\"https://colab.research.google.com/assets/colab-badge.svg\" alt=\"Open In Colab\"/></a>"
      ]
    },
    {
      "cell_type": "markdown",
      "source": [
        "**Autoregressive Integrated Moving Average Model** \\\\\n",
        "An ARIMA model is a class of statistical models for analyzing and forecasting time series data.\n",
        "\n",
        "It explicitly caters to a suite of standard structures in time series data, and as such provides a simple yet powerful method for making skillful time series forecasts.\n",
        "\n",
        "ARIMA is an acronym that stands for AutoRegressive Integrated Moving Average. It is a generalization of the simpler AutoRegressive Moving Average and adds the notion of integration.\n",
        "\n",
        "This acronym is descriptive, capturing the key aspects of the model itself. Briefly, they are:\n",
        "\n",
        "AR: Autoregression. A model that uses the dependent relationship between an observation and some number of lagged observations.\\\\\n",
        "\n",
        "I: Integrated. The use of differencing of raw observations (e.g. subtracting an observation from an observation at the previous time step) in order to make the time series stationary. \\\\\n",
        "\n",
        "MA: Moving Average. A model that uses the dependency between an observation and a residual error from a moving average model applied to lagged observations. \\\\\n",
        "\n",
        "Each of these components are explicitly specified in the model as a parameter. A standard notation is used of ARIMA(p,d,q) where the parameters are substituted with integer values to quickly indicate the specific ARIMA model being used.\n",
        "\n",
        "The parameters of the ARIMA model are defined as follows:\n",
        "\n",
        "p: The number of lag observations included in the model, also called the lag order. \\\\\n",
        "d: The number of times that the raw observations are differenced, also called the degree of differencing. \\\\\n",
        "q: The size of the moving average window, also called the order of moving average. \\\\\n",
        "\n",
        "A linear regression model is constructed including the specified number and type of terms, and the data is prepared by a degree of differencing in order to make it stationary, i.e. to remove trend and seasonal structures that negatively affect the regression model.\n",
        "\n",
        "A value of 0 can be used for a parameter, which indicates to not use that element of the model. This way, the ARIMA model can be configured to perform the function of an ARMA model, and even a simple AR, I, or MA model.\n",
        "\n",
        "Adopting an ARIMA model for a time series assumes that the underlying process that generated the observations is an ARIMA process. This may seem obvious, but helps to motivate the need to confirm the assumptions of the model in the raw observations and in the residual errors of forecasts from the model.\n",
        "\n",
        "Next, let’s take a look at how we can use the ARIMA model in Python. We will start with loading a simple univariate time series."
      ],
      "metadata": {
        "id": "Ecz9BLV5IEmc"
      }
    },
    {
      "cell_type": "code",
      "source": [],
      "metadata": {
        "id": "dh1i-7HTIKPr"
      },
      "execution_count": null,
      "outputs": []
    }
  ]
}